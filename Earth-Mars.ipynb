{
 "cells": [
  {
   "cell_type": "markdown",
   "metadata": {},
   "source": [
    "# 地球上からみた火星の位置"
   ]
  },
  {
   "cell_type": "markdown",
   "metadata": {},
   "source": [
    "## 導入\n",
    "このnotebookでは，天球上で火星の動きがどのようになるのかを計算するもの。"
   ]
  },
  {
   "cell_type": "markdown",
   "metadata": {},
   "source": [
    "## 理論\n",
    "地球の公転周期を$T_{E} = 1.00000$[年]，火星の公転周期を$T_{M} = 1.88089$[年]，公転軌道を太陽を中心とする同心円と仮定する。また，そのときの公転軌道の半径について，地球のものを$R_{E} = 1.4960 \\times 10^8$[km]，火星のものを$R_{M} = 2.2794 \\times 10^8$[km]とする。\n",
    "\n",
    "このとき，時刻$t$における地球の位置$r_{E}$と火星の位置$r_{M}$はそれぞれ\n",
    "\\begin{align}\n",
    "r_{E} = R_{E} \\begin{pmatrix} \\cos \\left( 2 \\pi t / T_{E} \\right) \\\\ \\sin \\left( 2 \\pi t / T_{E} \\right) \\end{pmatrix}, \\\\\n",
    "r_{M} = R_{M} \\begin{pmatrix} \\cos \\left( 2 \\pi t / T_{M} \\right) \\\\ \\sin \\left( 2 \\pi t / T_{M} \\right) \\end{pmatrix} \\\\\n",
    "\\end{align}\n",
    "で表される。\n",
    "\n",
    "したがって，地球を基準とする火星の位置$p(t)$は\n",
    "\\begin{equation}\n",
    "p(t) = r_{M} - r_{E} = \\begin{pmatrix}\n",
    "R_{M} \\cos \\left( 2 \\pi t / T_{M} \\right) - R_{E} \\cos \\left( 2 \\pi t / T_{E} \\right) \\\\\n",
    "R_{M} \\sin \\left( 2 \\pi t / T_{M} \\right) - R_{E} \\sin \\left( 2 \\pi t / T_{E} \\right) \\\\\n",
    "\\end{pmatrix}\n",
    "\\end{equation}\n",
    "で求まる。\n",
    "\n",
    "ここで，Numpyの関数である`np.arctan2()`を用いると，このベクトル$p(t)$と$x$軸方向とのなす角$\\varphi$を求めることができる。\n",
    "\n",
    "このnotebookではこの角度$\\varphi$を連続的にプロットすることで，地球上から火星の見える位置，すなわち，天球上での火星の位置がどのように変わるのかを見る。"
   ]
  },
  {
   "cell_type": "markdown",
   "metadata": {},
   "source": [
    "## 計算"
   ]
  },
  {
   "cell_type": "markdown",
   "metadata": {},
   "source": [
    "### 天球上の火星の位置"
   ]
  },
  {
   "cell_type": "code",
   "execution_count": 20,
   "metadata": {},
   "outputs": [],
   "source": [
    "import numpy as np\n",
    "import matplotlib\n",
    "import matplotlib.pyplot as plt\n",
    "import matplotlib.animation as animation\n",
    "\n",
    "font = {'family':'YuGothic'}\n",
    "matplotlib.rc('font',**font)"
   ]
  },
  {
   "cell_type": "code",
   "execution_count": 3,
   "metadata": {},
   "outputs": [],
   "source": [
    "# define constant\n",
    "Period_Earth = 1.00000 # years\n",
    "Period_Mars = 1.88089 # years\n",
    "Distance_Earth = 1.4960 # ×10^{8}km\n",
    "Distance_Mars = 2.2794 # ×10^{8}km"
   ]
  },
  {
   "cell_type": "code",
   "execution_count": 91,
   "metadata": {},
   "outputs": [],
   "source": [
    "# Angle\n",
    "def angle_translator(theta):\n",
    "    return 2 * np.pi * (theta - np.floor(theta))\n",
    "\n",
    "def polar(r, theta):\n",
    "    return np.array([r * np.cos(theta), r * np.sin(theta)])\n",
    "\n",
    "\n",
    "def angle_on_earth(t):\n",
    "    # Location of two planets\n",
    "    thetaE = angle_translator(2 * np.pi * t/Period_Earth)\n",
    "    thetaM = angle_translator(2 * np.pi * t/Period_Mars)\n",
    "    Location_Earth = polar(Distance_Earth, thetaE)\n",
    "    Location_Mars = polar(Distance_Mars, thetaM)\n",
    "    Location_diff = Location_Mars - Location_Earth\n",
    "    # Angle\n",
    "    return np.arctan2(Location_diff[1],Location_diff[0])"
   ]
  },
  {
   "cell_type": "code",
   "execution_count": 92,
   "metadata": {},
   "outputs": [],
   "source": [
    "time = [t/1000 for t in range(0,501)]\n",
    "angle = [angle_on_earth(t) for t in time]\n",
    "X = np.cos(angle)\n",
    "Y = np.sin(angle)"
   ]
  },
  {
   "cell_type": "code",
   "execution_count": 108,
   "metadata": {},
   "outputs": [
    {
     "data": {
      "image/png": "[encoded data removed]",
      "text/plain": [
       "<matplotlib.figure.Figure at 0x10b68fa58>"
      ]
     },
     "metadata": {},
     "output_type": "display_data"
    }
   ],
   "source": [
    "fig = plt.figure(figsize=(6,6))\n",
    "\n",
    "def update(i, Xdat, Ydat):\n",
    "    if i != 0:\n",
    "        plt.cla()                      # 現在描写されているグラフを消去\n",
    "    plt.title('天球上の火星位置　$t=$ ' + str(time[i]).ljust(5, '0'))\n",
    "    plt.axis('equal')\n",
    "    plt.xlim(-1.5,1.5)\n",
    "    plt.ylim(-1.5,1.5)\n",
    "    plt.plot(Xdat[i], Ydat[i], \"r\", marker='.')\n",
    "    if i <= 9: plt.plot(Xdat[:i], Ydat[:i])\n",
    "    if i >= 10: plt.plot(Xdat[i-10:i], Ydat[i-10:i])\n",
    "        \n",
    "ani = animation.FuncAnimation(fig, update, fargs = (X, Y), interval=100, frames=500)\n",
    "ani.save(\"MarsOnEarth.gif\", writer = 'imagemagick', dpi=100)"
   ]
  },
  {
   "cell_type": "markdown",
   "metadata": {},
   "source": [
    "### 2つの惑星の位置関係\n",
    "参考までに，地球と火星の位置関係をプロットする。"
   ]
  },
  {
   "cell_type": "code",
   "execution_count": 117,
   "metadata": {},
   "outputs": [
    {
     "data": {
      "image/png": "[encoded data removed]",
      "text/plain": [
       "<matplotlib.figure.Figure at 0x1156e87f0>"
      ]
     },
     "metadata": {},
     "output_type": "display_data"
    }
   ],
   "source": [
    "fig2 = plt.figure(figsize=(6,6))\n",
    "\n",
    "# thetaE = [angle_translator(2 * np.pi * t/Period_Earth) for t in time]\n",
    "# thetaM = [angle_translator(2 * np.pi * t/Period_Mars) for t in time]\n",
    "Location_Earth = [polar(Distance_Earth, angle_translator(2 * np.pi * t/Period_Earth)) for t in time]\n",
    "Location_Mars = [polar(Distance_Mars, angle_translator(2 * np.pi * t/Period_Mars)) for t in time]\n",
    "\n",
    "def update2(i, LocEarth, LocMars):\n",
    "    if i != 0:\n",
    "        plt.cla()                      # 現在描写されているグラフを消去\n",
    "    plt.title('地球と火星の位置　$t=$ ' + str(time[i]).ljust(5, '0'))\n",
    "    plt.axis('equal')\n",
    "    plt.xlim(-2.5,2.5)\n",
    "    plt.ylim(-2.5,2.5)\n",
    "    plt.plot(LocEarth[i][0], LocEarth[i][1], \"b\", marker='.')\n",
    "    plt.plot(LocMars[i][0], LocMars[i][1], \"r\", marker='.')\n",
    "        \n",
    "ani = animation.FuncAnimation(fig2, update2, fargs = (Location_Earth, Location_Mars), interval=100, frames=500)\n",
    "ani.save(\"EarthAndMars.gif\", writer = 'imagemagick', dpi=100)"
   ]
  }
 ],
 "metadata": {
  "kernelspec": {
   "display_name": "Python 3",
   "language": "python",
   "name": "python3"
  },
  "language_info": {
   "codemirror_mode": {
    "name": "ipython",
    "version": 3
   },
   "file_extension": ".py",
   "mimetype": "text/x-python",
   "name": "python",
   "nbconvert_exporter": "python",
   "pygments_lexer": "ipython3",
   "version": "3.6.8"
  }
 },
 "nbformat": 4,
 "nbformat_minor": 2
}
